{
 "cells": [
  {
   "cell_type": "markdown",
   "metadata": {},
   "source": [
    "## Data Science Capstone Project\n"
   ]
  },
  {
   "cell_type": "markdown",
   "metadata": {},
   "source": [
    "### 1. Introduction\n",
    "*A description of the problem and a discussion of the background.*"
   ]
  },
  {
   "cell_type": "markdown",
   "metadata": {},
   "source": [
    "The city can be a tricky place to raise a dog. Dogs need open spaces, accepting communities, pet supply and grooming locations, and plenty of dog-friendly establishments and eateries. That’s why dog owners are always looking for the perfect neighborhood to raise their pup, and it can be challenging to find. San Francisco is one of the more dog-welcoming cities, but what is the perfect area in San Francisco for a dog owner? My analysis will find a solution to this question, by identifying the top dog-friendly neighborhoods to live in San Francisco."
   ]
  },
  {
   "cell_type": "markdown",
   "metadata": {},
   "source": [
    "### 2. Data\n",
    "*A description of the data and how it will be used to solve the problem.*"
   ]
  },
  {
   "cell_type": "markdown",
   "metadata": {},
   "source": [
    "I will be using Foursquare location data to find the neighborhoods that provide the most extensive list of top dog related establishments - for example, I will be searching on dog parks, pet stores, pet grooming services, dog daycares, and so on. I will also look for non-dog related institutions, such as restaurants, cafes, and public spaces, that welcome dogs. For example, a possible way to look into this would be looking for key words in comments that would indicate a dog-friendly location. I will then rate the neighborhoods based on the highest number of top-rated dog-friendly fixtures. The Foursquare location data is available through the Foursquare website - [Foursquare](https://developer.foursquare.com/)."
   ]
  }
 ],
 "metadata": {
  "kernelspec": {
   "display_name": "Python 3",
   "language": "python",
   "name": "python3"
  },
  "language_info": {
   "codemirror_mode": {
    "name": "ipython",
    "version": 3
   },
   "file_extension": ".py",
   "mimetype": "text/x-python",
   "name": "python",
   "nbconvert_exporter": "python",
   "pygments_lexer": "ipython3",
   "version": "3.6.8"
  }
 },
 "nbformat": 4,
 "nbformat_minor": 2
}
